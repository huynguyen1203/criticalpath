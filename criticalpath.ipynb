{
 "cells": [
  {
   "cell_type": "code",
   "execution_count": 83,
   "metadata": {},
   "outputs": [],
   "source": [
    "from criticalpath import Node\n",
    "import numpy as np"
   ]
  },
  {
   "cell_type": "code",
   "execution_count": 84,
   "metadata": {},
   "outputs": [
    {
     "data": {
      "text/plain": [
       "[A, B, E, G, I, K]"
      ]
     },
     "execution_count": 84,
     "metadata": {},
     "output_type": "execute_result"
    }
   ],
   "source": [
    "p = Node('project')\n",
    "a = p.add(Node('A', duration=4))\n",
    "b = p.add(Node('B', duration=5))\n",
    "c = p.add(Node('C', duration=6))\n",
    "d = p.add(Node('D', duration=7))\n",
    "e = p.add(Node('E', duration=8))\n",
    "f = p.add(Node('F', duration=6))\n",
    "g = p.add(Node('G', duration=5))\n",
    "h = p.add(Node('H', duration=3))\n",
    "i = p.add(Node('I', duration=7))\n",
    "j = p.add(Node('J', duration=8))\n",
    "k = p.add(Node('K', duration=7))\n",
    "p.link(a, b).link(a,c).link(b,d).link(b,e).link(c,f).link(d,g).link(e,g).link(e,h).link(f,h).link(g,i).link(h,j).link(i,k).link(i,k).link(j,k)\n",
    "p.update_all()\n",
    "p.get_critical_path()"
   ]
  },
  {
   "cell_type": "code",
   "execution_count": 85,
   "metadata": {},
   "outputs": [],
   "source": [
    "\n",
    "def try_crash(a1,b1,c1,d1,e1,f1,g1,h1,i1,j1,k1):\n",
    "    p = Node('project')\n",
    "    c = np.array([a1,b1,c1,d1,e1,f1,g1,h1,i1,j1,k1])\n",
    "    a = p.add(Node('A', duration=4-a1))\n",
    "    b = p.add(Node('B', duration=5-b1))\n",
    "    c = p.add(Node('C', duration=6-c1))\n",
    "    d = p.add(Node('D', duration=7-d1))\n",
    "    e = p.add(Node('E', duration=8-e1))\n",
    "    f = p.add(Node('F', duration=6-f1))\n",
    "    g = p.add(Node('G', duration=5-g1))\n",
    "    h = p.add(Node('H', duration=3-h1))\n",
    "    i = p.add(Node('I', duration=7-i1))\n",
    "    j = p.add(Node('J', duration=8-j1))\n",
    "    k = p.add(Node('K', duration=7-k1))\n",
    "    p.link(a, b).link(a,c).link(b,d).link(b,e).link(c,f).link(d,g).link(e,g).link(e,h).link(f,h).link(g,i).link(h,j).link(i,k).link(i,k).link(j,k)\n",
    "    p.update_all()\n",
    "    return (p.duration,p.get_critical_path(),(a1,b1,c1,d1,e1,f1,g1,h1,i1,j1,k1))\n"
   ]
  },
  {
   "cell_type": "code",
   "execution_count": 89,
   "metadata": {},
   "outputs": [
    {
     "name": "stdout",
     "output_type": "stream",
     "text": [
      "(33, [A, B, E, G, I, K], (0, 0, 0, 0, 0, 0, 0, 0, 0, 0, 3)) 45000\n",
      "(33, [A, B, E, H, J, K], (0, 0, 0, 0, 0, 0, 0, 0, 1, 0, 2)) 36000\n",
      "(33, [A, B, E, H, J, K], (0, 0, 0, 0, 0, 0, 0, 0, 2, 1, 1)) 33000\n",
      "(33, [A, B, E, H, J, K], (0, 0, 0, 0, 0, 0, 0, 1, 2, 0, 1)) 32000\n",
      "(33, [A, B, E, H, J, K], (0, 0, 0, 0, 0, 0, 1, 0, 0, 0, 2)) 31000\n",
      "(33, [A, B, E, H, J, K], (0, 0, 0, 0, 0, 0, 1, 0, 1, 1, 1)) 28000\n",
      "(33, [A, B, E, H, J, K], (0, 0, 0, 0, 0, 0, 1, 0, 2, 2, 0)) 25000\n",
      "(33, [A, B, E, H, J, K], (0, 0, 0, 0, 0, 0, 1, 1, 2, 1, 0)) 24000\n",
      "(33, [A, C, F, H, J, K], (0, 0, 0, 0, 1, 0, 0, 0, 2, 1, 0)) 23000\n",
      "(33, [A, C, F, H, J, K], (0, 0, 0, 0, 1, 0, 0, 1, 2, 0, 0)) 22000\n",
      "(33, [A, C, F, H, J, K], (0, 0, 0, 0, 1, 0, 1, 0, 0, 0, 1)) 21000\n",
      "(33, [A, C, F, H, J, K], (0, 0, 0, 0, 1, 0, 1, 0, 1, 1, 0)) 18000\n",
      "(33, [A, C, F, H, J, K], (0, 0, 0, 0, 1, 0, 1, 1, 1, 0, 0)) 17000\n",
      "(33, [A, C, F, H, J, K], (0, 1, 1, 0, 1, 0, 1, 0, 0, 0, 0)) 16000\n"
     ]
    }
   ],
   "source": [
    "min_duration = 100\n",
    "min_path = []\n",
    "crash = np.array([2,1,2,3,2,2,1,1,2,4,3])\n",
    "cost = np.array([12000, 9000, 1000, 5000, 5000, 2000,1000,5000,6000,6000,15000])\n",
    "tcost = 100000\n",
    "for a in range(crash[0]+1):\n",
    "    for b in range(crash[1]+1):\n",
    "        for c in range(crash[2]+1):\n",
    "            for d in range(crash[3]+1):\n",
    "                for e in range(crash[4]+1):\n",
    "                    for f in range(crash[5]+1):\n",
    "                        for g in range(crash[6]+1):\n",
    "                            for h in range(crash[7]+1):\n",
    "                                for i in range(crash[8]+1):\n",
    "                                    for j in range(crash[9]+1):\n",
    "                                        for k in range(crash[10]+1):\n",
    "                                            t =  try_crash(a,b,c,d,e,f,g,h,i,j,k)\n",
    "                                            if t[0] == 33 and sum(cost*t[2])<tcost:\n",
    "                                                min_duration = t[0]\n",
    "                                                min_path = t\n",
    "                                                tcost = sum(cost*t[2])\n",
    "                                                print(t,tcost)ca\n",
    "\n",
    "                                        "
   ]
  },
  {
   "cell_type": "code",
   "execution_count": 7,
   "metadata": {},
   "outputs": [],
   "source": [
    "from criticalpath import Node\n",
    "p = Node('project')\n",
    "a = p.add(Node('A', duration=3))\n",
    "b = p.add(Node('B', duration=3, lag=0))\n",
    "c = p.add(Node('C', duration=4, lag=0))\n",
    "d = p.add(Node('D', duration=6, lag=0))\n",
    "e = p.add(Node('E', duration=5, lag=0))\n",
    "p.link(a, b).link(a, c).link(a, d).link(b, e).link(c, e).link(d, e)\n",
    "p.duration"
   ]
  }
 ],
 "metadata": {
  "kernelspec": {
   "display_name": "Python 3",
   "language": "python",
   "name": "python3"
  },
  "language_info": {
   "codemirror_mode": {
    "name": "ipython",
    "version": 3
   },
   "file_extension": ".py",
   "mimetype": "text/x-python",
   "name": "python",
   "nbconvert_exporter": "python",
   "pygments_lexer": "ipython3",
   "version": "3.7.3"
  }
 },
 "nbformat": 4,
 "nbformat_minor": 4
}
